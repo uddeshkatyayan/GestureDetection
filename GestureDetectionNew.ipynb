{
 "cells": [
  {
   "cell_type": "code",
   "execution_count": 1,
   "metadata": {},
   "outputs": [],
   "source": [
    "import numpy as np\n",
    "import torch\n",
    "import torchvision\n",
    "import matplotlib.pyplot as plt\n",
    "from time import time\n",
    "from torchvision import datasets, transforms\n",
    "from torch import nn, optim\n",
    "import torch.nn as nn\n",
    "import torch.nn.functional as F\n",
    "import torch.optim as optim\n",
    "import matplotlib.pyplot as plt\n",
    "from torch.utils.data import Dataset, DataLoader\n",
    "import pandas as pd\n",
    "import os\n",
    "import cv2 as cv\n",
    "import glob\n",
    "# from skimage import io\n",
    "image_size = 56"
   ]
  },
  {
   "cell_type": "code",
   "execution_count": 2,
   "metadata": {},
   "outputs": [],
   "source": [
    "transform2 = transforms.Compose([transforms.ToTensor(), transforms.Normalize((0.5,), (0.5,)),])\n",
    "my_transform = transforms.Compose([transforms.ToPILImage(),transforms.Grayscale(), transforms.Resize((image_size,image_size)),transforms.ToTensor(), transforms.Normalize((0.5,), (0.5,)),])\n",
    "class customDataset(Dataset):\n",
    "    \"\"\"Face Landmarks dataset.\"\"\"\n",
    "\n",
    "    def __init__(self, csv_file, root_dir, transform=None):\n",
    "        \"\"\"\n",
    "        Args:\n",
    "            csv_file (string): Path to the csv file with annotations.\n",
    "            root_dir (string): Directory with all the images.\n",
    "            transform (callable, optional): Optional transform to be applied\n",
    "                on a sample.\n",
    "        \"\"\"\n",
    "        self.label = pd.read_csv(csv_file)\n",
    "        self.root_dir = root_dir\n",
    "        self.transform = transform\n",
    "\n",
    "    def __len__(self):\n",
    "        return len(self.label)\n",
    "\n",
    "    def __getitem__(self, idx):\n",
    "        if torch.is_tensor(idx):\n",
    "            idx = idx.tolist()\n",
    "\n",
    "        img_name = os.path.join(self.root_dir,\n",
    "                                self.label.iloc[idx, 0])\n",
    "\n",
    "        image = cv.imread(img_name)\n",
    "        labels = self.label.iloc[idx, 1]\n",
    "        labels = np.array(labels)\n",
    "        sample = {'image': image, 'label': labels}\n",
    "\n",
    "        if sample['image'] is not None:\n",
    "            if self.transform:\n",
    "                sample['image'] = self.transform(sample['image'])\n",
    "\n",
    "        return sample"
   ]
  },
  {
   "cell_type": "code",
   "execution_count": 4,
   "metadata": {},
   "outputs": [],
   "source": [
    "#CUSTOM TRAIN DATASET\n",
    "# custom_dataset = customDataset(csv_file='./dataset/labels.csv',root_dir='./dataset/images/',transform=transforms.Compose([Rescale(256),ToTensor()]))\n",
    "custom_training_dataset = []\n",
    "temp = customDataset(csv_file='./dataset/train/labels.csv',root_dir='./dataset/train/images/',transform=my_transform)\n",
    "\n",
    "images = glob.glob('./dataset/train/images/*.jpg')\n",
    "images.sort()\n",
    "# count = []\n",
    "for i in range(len(temp)):\n",
    "    sample = temp[i]\n",
    "#     print(sample.keys())\n",
    "    if sample['image'] is not None:\n",
    "        custom_training_dataset.append(sample)\n",
    "#         print(i, sample['image'].shape, sample['label'].shape, sample['label'][0][0])\n",
    "#     else:\n",
    "#         print(i)\n",
    "#         count.append(i)\n",
    "#     print(sample)\n",
    "# print(count)"
   ]
  },
  {
   "cell_type": "code",
   "execution_count": 11,
   "metadata": {},
   "outputs": [],
   "source": [
    "#CUSTOM TEST DATASET\n",
    "# custom_dataset = customDataset(csv_file='./dataset/labels.csv',root_dir='./dataset/images/',transform=transforms.Compose([Rescale(256),ToTensor()]))\n",
    "custom_testing_dataset = []\n",
    "temp = customDataset(csv_file='./dataset/test/labels.csv',root_dir='./dataset/test/images/',transform=my_transform)\n",
    "\n",
    "images = glob.glob('./dataset/test/images/*.jpg')\n",
    "images.sort()\n",
    "# count = []\n",
    "for i in range(len(temp)):\n",
    "    sample = temp[i]\n",
    "#     print(sample.keys())\n",
    "    if sample['image'] is not None:\n",
    "        custom_testing_dataset.append(sample)\n",
    "#         print(i, sample['image'].shape, sample['label'].shape, sample['label'][0][0])\n",
    "#     else:\n",
    "#         print(i)\n",
    "#         count.append(i)\n",
    "#     print(sample)\n",
    "# print(count)"
   ]
  },
  {
   "cell_type": "code",
   "execution_count": 12,
   "metadata": {},
   "outputs": [
    {
     "name": "stdout",
     "output_type": "stream",
     "text": [
      "3631\n",
      "29\n",
      "610\n",
      "10\n"
     ]
    }
   ],
   "source": [
    "# trainset = datasets.MNIST('~/Documents/Sem9/TA-COL780/Pytorch_tutorial/', download=True, train=True, transform=transform)\n",
    "# testset = datasets.MNIST('~/Documents/Sem9/TA-COL780/Pytorch_tutorial/', download=True, train=False, transform=transform2)\n",
    "trainloader = torch.utils.data.DataLoader(custom_training_dataset, batch_size=128, shuffle=True)\n",
    "print(len(custom_training_dataset))\n",
    "print(len(trainloader))\n",
    "testloader = torch.utils.data.DataLoader(custom_testing_dataset, batch_size=64, shuffle=True)\n",
    "print(len(custom_testing_dataset))\n",
    "print(len(testloader))\n",
    "classes = ('1','2','3')"
   ]
  },
  {
   "cell_type": "code",
   "execution_count": 13,
   "metadata": {},
   "outputs": [
    {
     "name": "stdout",
     "output_type": "stream",
     "text": [
      "torch.Size([128, 1, 56, 56])\n",
      "torch.Size([128])\n"
     ]
    },
    {
     "data": {
      "image/png": "[encoded data removed]",
      "text/plain": [
       "<Figure size 432x288 with 1 Axes>"
      ]
     },
     "metadata": {
      "needs_background": "light"
     },
     "output_type": "display_data"
    },
    {
     "data": {
      "image/png": "[encoded data removed]",
      "text/plain": [
       "<Figure size 432x288 with 10 Axes>"
      ]
     },
     "metadata": {
      "needs_background": "light"
     },
     "output_type": "display_data"
    }
   ],
   "source": [
    "dataiter = iter(trainloader)\n",
    "n = dataiter.next()\n",
    "images = n['image']\n",
    "labels = n['label']\n",
    "\n",
    "print(images.shape)\n",
    "print(labels.shape)\n",
    "\n",
    "plt.imshow(images[0].numpy().squeeze(), cmap='gray_r');  \n",
    "figure = plt.figure()\n",
    "num_of_images = 10\n",
    "for index in range(1, num_of_images+1):\n",
    "    plt.subplot(6, 10, index)\n",
    "    plt.axis('off')\n",
    "    plt.imshow(images[index].numpy().squeeze(), cmap='gray_r')"
   ]
  },
  {
   "cell_type": "code",
   "execution_count": 14,
   "metadata": {},
   "outputs": [
    {
     "name": "stdout",
     "output_type": "stream",
     "text": [
      "torch.Size([64, 1, 56, 56])\n",
      "torch.Size([64])\n"
     ]
    },
    {
     "data": {
      "image/png": "[encoded data removed]",
      "text/plain": [
       "<Figure size 432x288 with 1 Axes>"
      ]
     },
     "metadata": {
      "needs_background": "light"
     },
     "output_type": "display_data"
    },
    {
     "data": {
      "image/png": "[encoded data removed]",
      "text/plain": [
       "<Figure size 432x288 with 10 Axes>"
      ]
     },
     "metadata": {
      "needs_background": "light"
     },
     "output_type": "display_data"
    }
   ],
   "source": [
    "dataiter = iter(testloader)\n",
    "n = dataiter.next()\n",
    "images = n['image']\n",
    "labels = n['label']\n",
    "\n",
    "print(images.shape)\n",
    "print(labels.shape)\n",
    "plt.imshow(images[0].numpy().squeeze(), cmap='gray_r');  \n",
    "figure = plt.figure()\n",
    "num_of_images = 10\n",
    "for index in range(1, num_of_images+1):\n",
    "    plt.subplot(6, 10, index)\n",
    "    plt.axis('off')\n",
    "    plt.imshow(images[index].numpy().squeeze(), cmap='gray_r')"
   ]
  },
  {
   "cell_type": "code",
   "execution_count": 15,
   "metadata": {},
   "outputs": [
    {
     "data": {
      "text/plain": [
       "Net(\n",
       "  (conv1): Conv2d(1, 8, kernel_size=(3, 3), stride=(1, 1))\n",
       "  (conv2): Conv2d(8, 16, kernel_size=(3, 3), stride=(1, 1))\n",
       "  (fc1): Linear(in_features=2304, out_features=300, bias=True)\n",
       "  (fc2): Linear(in_features=300, out_features=120, bias=True)\n",
       "  (fc3): Linear(in_features=120, out_features=4, bias=True)\n",
       ")"
      ]
     },
     "execution_count": 15,
     "metadata": {},
     "output_type": "execute_result"
    }
   ],
   "source": [
    "class Net(nn.Module):\n",
    "\n",
    "    def __init__(self):\n",
    "        super(Net, self).__init__()\n",
    "        # 1 input image channel, 6 output channels, 3x3 square convolution kernel\n",
    "        self.conv1 = nn.Conv2d(1, 8, 3)\n",
    "        self.conv2 = nn.Conv2d(8, 16, 3)\n",
    "        # an affine operation: y = Wx + b\n",
    "        self.fc1 = nn.Linear(16 * 12 * 12, 300)  \n",
    "        self.fc2 = nn.Linear(300, 120)\n",
    "        self.fc3 = nn.Linear(120, 4)\n",
    "\n",
    "    def forward(self, x):\n",
    "        # Max pooling over a (2, 2) window\n",
    "        x = F.max_pool2d(F.relu(self.conv1(x)), (2, 2))\n",
    "        # If the size is a square you can only specify a single number\n",
    "        x = F.max_pool2d(F.relu(self.conv2(x)), 2)\n",
    "        x = x.view(-1, self.num_flat_features(x))\n",
    "        x = F.relu(self.fc1(x))\n",
    "        x = F.relu(self.fc2(x))\n",
    "        x = self.fc3(x)\n",
    "#         print(\"inside forward\")\n",
    "        return x\n",
    "\n",
    "    def num_flat_features(self, x):\n",
    "        size = x.size()[1:]  # all dimensions except the batch dimension\n",
    "        num_features = 1\n",
    "        for s in size:\n",
    "            num_features *= s\n",
    "        return num_features\n",
    "\n",
    "\n",
    "net = Net()\n",
    "net"
   ]
  },
  {
   "cell_type": "code",
   "execution_count": 16,
   "metadata": {},
   "outputs": [],
   "source": [
    "criterion = nn.CrossEntropyLoss()\n",
    "optimizer = optim.SGD(net.parameters(), lr=0.001, momentum=0.9)"
   ]
  },
  {
   "cell_type": "code",
   "execution_count": 22,
   "metadata": {},
   "outputs": [
    {
     "name": "stdout",
     "output_type": "stream",
     "text": [
      "[1,    28] loss: 0.862\n",
      "Accuracy of the network on the test images: 53 % 328 610\n",
      "correct: [120, 208, 0]\n",
      "incorrect: [98, 59, 125]\n",
      "Accuracy of the network on the train images: 63 % 2322 3631\n",
      "[1,     6] loss_val: 1.017\n",
      "[2,    28] loss: 0.841\n",
      "Accuracy of the network on the test images: 55 % 336 610\n",
      "correct: [135, 201, 0]\n",
      "incorrect: [83, 66, 125]\n",
      "Accuracy of the network on the train images: 65 % 2362 3631\n",
      "[2,     6] loss_val: 1.019\n",
      "[3,    28] loss: 0.820\n",
      "Accuracy of the network on the test images: 52 % 321 610\n",
      "correct: [110, 211, 0]\n",
      "incorrect: [108, 56, 125]\n",
      "Accuracy of the network on the train images: 65 % 2378 3631\n",
      "[3,     6] loss_val: 0.996\n",
      "[4,    28] loss: 0.799\n",
      "Accuracy of the network on the test images: 54 % 333 610\n",
      "correct: [123, 210, 0]\n",
      "incorrect: [95, 57, 125]\n",
      "Accuracy of the network on the train images: 66 % 2427 3631\n",
      "[4,     6] loss_val: 0.997\n",
      "[5,    28] loss: 0.776\n",
      "Accuracy of the network on the test images: 56 % 344 610\n",
      "correct: [135, 209, 0]\n",
      "incorrect: [83, 58, 125]\n",
      "Accuracy of the network on the train images: 68 % 2476 3631\n",
      "[5,     6] loss_val: 0.993\n",
      "[6,    28] loss: 0.748\n",
      "Accuracy of the network on the test images: 53 % 326 610\n",
      "correct: [127, 193, 6]\n",
      "incorrect: [91, 74, 119]\n",
      "Accuracy of the network on the train images: 69 % 2541 3631\n",
      "[6,     6] loss_val: 0.983\n",
      "[7,    28] loss: 0.721\n",
      "Accuracy of the network on the test images: 55 % 337 610\n",
      "correct: [125, 194, 18]\n",
      "incorrect: [93, 73, 107]\n",
      "Accuracy of the network on the train images: 72 % 2619 3631\n",
      "[7,     6] loss_val: 0.976\n",
      "[8,    28] loss: 0.686\n",
      "Accuracy of the network on the test images: 61 % 376 610\n",
      "correct: [115, 216, 45]\n",
      "incorrect: [103, 51, 80]\n",
      "Accuracy of the network on the train images: 75 % 2734 3631\n",
      "[8,     6] loss_val: 0.931\n",
      "[9,    28] loss: 0.654\n",
      "Accuracy of the network on the test images: 50 % 309 610\n",
      "correct: [136, 163, 10]\n",
      "incorrect: [82, 104, 115]\n",
      "Accuracy of the network on the train images: 74 % 2707 3631\n",
      "[9,     6] loss_val: 0.907\n",
      "[10,    28] loss: 0.620\n",
      "Accuracy of the network on the test images: 59 % 362 610\n",
      "correct: [132, 171, 59]\n",
      "incorrect: [86, 96, 66]\n",
      "Accuracy of the network on the train images: 77 % 2816 3631\n",
      "[10,     6] loss_val: 0.865\n",
      "[11,    28] loss: 0.581\n",
      "Accuracy of the network on the test images: 61 % 375 610\n",
      "correct: [134, 175, 66]\n",
      "incorrect: [84, 92, 59]\n",
      "Accuracy of the network on the train images: 78 % 2861 3631\n",
      "[11,     6] loss_val: 0.908\n",
      "[12,    28] loss: 0.553\n",
      "Accuracy of the network on the test images: 61 % 373 610\n",
      "correct: [137, 168, 68]\n",
      "incorrect: [81, 99, 57]\n",
      "Accuracy of the network on the train images: 80 % 2909 3631\n",
      "[12,     6] loss_val: 0.805\n",
      "[13,    28] loss: 0.518\n",
      "Accuracy of the network on the test images: 63 % 389 610\n",
      "correct: [133, 183, 73]\n",
      "incorrect: [85, 84, 52]\n",
      "Accuracy of the network on the train images: 81 % 2974 3631\n",
      "[13,     6] loss_val: 0.797\n",
      "[14,    28] loss: 0.483\n",
      "Accuracy of the network on the test images: 63 % 390 610\n",
      "correct: [149, 168, 73]\n",
      "incorrect: [69, 99, 52]\n",
      "Accuracy of the network on the train images: 83 % 3025 3631\n",
      "[14,     6] loss_val: 0.778\n",
      "[15,    28] loss: 0.444\n",
      "Accuracy of the network on the test images: 65 % 399 610\n",
      "correct: [143, 185, 71]\n",
      "incorrect: [75, 82, 54]\n",
      "Accuracy of the network on the train images: 83 % 3040 3631\n",
      "[15,     6] loss_val: 0.699\n",
      "Finished Training\n"
     ]
    },
    {
     "data": {
      "image/png": "[encoded data removed]",
      "text/plain": [
       "<Figure size 432x288 with 1 Axes>"
      ]
     },
     "metadata": {
      "needs_background": "light"
     },
     "output_type": "display_data"
    }
   ],
   "source": [
    "mini_batch = 28\n",
    "mini_batch_loss = 6\n",
    "loss_values = []\n",
    "loss_values_val = []\n",
    "for epoch in range(15):  # loop over the dataset multiple times\n",
    "\n",
    "    running_loss = 0.0\n",
    "    running_loss_val =0.0\n",
    "    for i, data in enumerate(trainloader, 0):\n",
    "        # get the inputs; data is a list of [inputs, labels]\n",
    "        inputs_train = data['image']\n",
    "        labels_train = data['label']\n",
    "        # make the parameter gradients zero\n",
    "        optimizer.zero_grad()\n",
    "\n",
    "        # forward + backward + optimize\n",
    "        outputs_train = net(inputs_train)\n",
    "        loss_train = criterion(outputs_train, labels_train)\n",
    "        loss_train.backward()\n",
    "        optimizer.step()\n",
    "\n",
    "        # print statistics\n",
    "        running_loss += loss_train.item()\n",
    "        if i % mini_batch == mini_batch-1:\n",
    "            print('[%d, %5d] loss: %.3f' %\n",
    "                  (epoch + 1, i + 1, running_loss / mini_batch))\n",
    "            loss_values.append(running_loss/mini_batch)\n",
    "            running_loss = 0.0\n",
    "         \n",
    "    correct = 0\n",
    "    total = 0\n",
    "    classes = [0,0,0]\n",
    "    incorrect = [0,0,0]\n",
    "    with torch.no_grad():\n",
    "        for data in testloader:\n",
    "            images = data['image']\n",
    "            labels = data['label']\n",
    "            outputs = net(images)\n",
    "            _, predicted = torch.max(outputs.data, 1)\n",
    "            for j in range(len(labels)):\n",
    "                if predicted[j]==labels[j]:\n",
    "                    classes[labels[j]-1]+=1\n",
    "                else:\n",
    "                    incorrect[labels[j]-1]+=1\n",
    "            total += labels.size(0)\n",
    "            correct += (predicted == labels).sum().item()\n",
    "\n",
    "    print('Accuracy of the network on the test images: %d %%' % (\n",
    "        100 * correct / total), correct, total)\n",
    "    print(\"correct:\",classes)\n",
    "    print(\"incorrect:\",incorrect)\n",
    "    correct = 0\n",
    "    total = 0\n",
    "    with torch.no_grad():\n",
    "        for data in trainloader:\n",
    "            images = data['image']\n",
    "            labels = data['label']\n",
    "            outputs = net(images)\n",
    "            _, predicted = torch.max(outputs.data, 1)\n",
    "            total += labels.size(0)\n",
    "            correct += (predicted == labels).sum().item()\n",
    "\n",
    "    print('Accuracy of the network on the train images: %d %%' % (\n",
    "        100 * correct / total),correct,total)\n",
    "\n",
    "    for i, data in enumerate(testloader,0):\n",
    "        inputs_val = data['image']\n",
    "        labels_val = data['label']\n",
    "\n",
    "        outputs_val = net(inputs_val)\n",
    "        loss_val = criterion(outputs_val, labels_val)\n",
    "\n",
    "        # print statistics\n",
    "        running_loss_val += loss_val.item()\n",
    "        if i % mini_batch_loss == mini_batch_loss-1:    # print every 200 mini-batches\n",
    "            print('[%d, %5d] loss_val: %.3f' %\n",
    "                  (epoch + 1, i + 1, running_loss_val / mini_batch_loss))\n",
    "            loss_values_val.append(running_loss_val/mini_batch_loss)\n",
    "            running_loss_val = 0.0\n",
    "        \n",
    "# print(loss_values)        \n",
    "plt.plot(loss_values)\n",
    "plt.plot(loss_values_val)\n",
    "\n",
    "print('Finished Training')"
   ]
  },
  {
   "cell_type": "code",
   "execution_count": 26,
   "metadata": {},
   "outputs": [
    {
     "name": "stdout",
     "output_type": "stream",
     "text": [
      "Accuracy of the network on the train images: 83 %\n"
     ]
    }
   ],
   "source": [
    "correct = 0\n",
    "total = 0\n",
    "with torch.no_grad():\n",
    "    for data in trainloader:\n",
    "        images = data['image']\n",
    "        labels = data['label']\n",
    "        outputs = net(images)\n",
    "        _, predicted = torch.max(outputs.data, 1)\n",
    "        total += labels.size(0)\n",
    "        correct += (predicted == labels).sum().item()\n",
    "\n",
    "print('Accuracy of the network on the train images: %d %%' % (\n",
    "    100 * correct / total))"
   ]
  },
  {
   "cell_type": "code",
   "execution_count": 27,
   "metadata": {},
   "outputs": [
    {
     "name": "stdout",
     "output_type": "stream",
     "text": [
      "Accuracy of the network on the test images: 65 %\n"
     ]
    }
   ],
   "source": [
    "correct = 0\n",
    "total = 0\n",
    "with torch.no_grad():\n",
    "    for data in testloader:\n",
    "        images = data['image']\n",
    "        labels = data['label']\n",
    "        outputs = net(images)\n",
    "        _, predicted = torch.max(outputs.data, 1)\n",
    "        total += labels.size(0)\n",
    "        correct += (predicted == labels).sum().item()\n",
    "\n",
    "print('Accuracy of the network on the test images: %d %%' % (\n",
    "    100 * correct / total))"
   ]
  },
  {
   "cell_type": "code",
   "execution_count": 28,
   "metadata": {},
   "outputs": [
    {
     "name": "stdout",
     "output_type": "stream",
     "text": [
      "model saved as  ./model\n"
     ]
    }
   ],
   "source": [
    "MODEL_PATH = './model'\n",
    "# print(\"Model's state_dict:\")\n",
    "# for param_tensor in net.state_dict():\n",
    "#     print(param_tensor, \"\\t\", net.state_dict()[param_tensor].size())\n",
    "    \n",
    "#print(\"Optimizer's state_dict:\")\n",
    "# for var_name in optimizer.state_dict():\n",
    "#     print(var_name, \"\\t\", optimizer.state_dict()[var_name])\n",
    "    \n",
    "torch.save(net.state_dict(), MODEL_PATH)\n",
    "print(\"model saved as \",MODEL_PATH)"
   ]
  },
  {
   "cell_type": "code",
   "execution_count": 29,
   "metadata": {},
   "outputs": [
    {
     "data": {
      "text/plain": [
       "Net(\n",
       "  (conv1): Conv2d(1, 8, kernel_size=(3, 3), stride=(1, 1))\n",
       "  (conv2): Conv2d(8, 16, kernel_size=(3, 3), stride=(1, 1))\n",
       "  (fc1): Linear(in_features=2304, out_features=300, bias=True)\n",
       "  (fc2): Linear(in_features=300, out_features=120, bias=True)\n",
       "  (fc3): Linear(in_features=120, out_features=4, bias=True)\n",
       ")"
      ]
     },
     "execution_count": 29,
     "metadata": {},
     "output_type": "execute_result"
    }
   ],
   "source": [
    "# model = torch.load(MODEL_PATH)\n",
    "model = Net()\n",
    "model.load_state_dict(torch.load(MODEL_PATH))\n",
    "model.eval()"
   ]
  },
  {
   "cell_type": "code",
   "execution_count": 48,
   "metadata": {},
   "outputs": [
    {
     "name": "stdout",
     "output_type": "stream",
     "text": [
      "Accuracy of the network on the train images: 83 %\n",
      "{'image': [], 'prediction': [2, 2, 1, 2, 1, 2, 2, 1, 3, 2, 2, 3, 1, 2, 2, 2, 2, 2, 1, 1, 1, 3, 2, 1, 3, 2, 1, 1, 3, 2, 1, 2, 2, 2, 2, 2, 1, 2, 1, 1, 1, 2, 2, 2, 2, 2, 2, 2, 3, 2, 2, 1, 2, 2, 1, 2, 1, 3, 2, 3, 1, 2, 3, 2, 2, 2, 2, 2, 3, 1, 3, 3, 2, 1, 2, 2, 3, 3, 1, 1, 1, 2, 2, 3, 1, 1, 1, 2, 2, 3, 3, 1, 1, 2, 2, 1, 1, 1, 1, 1, 2, 1, 1, 1, 1, 2, 1, 2, 3, 1, 1, 2, 1, 1, 2, 2, 2, 1, 2, 1, 1, 1, 1, 2, 1, 3, 1, 1, 3, 1, 1, 3, 1, 2, 1, 1, 1, 3, 1, 1, 2, 2, 1, 1, 3, 1, 1, 1, 1, 3, 1, 2, 2, 2, 2, 1, 2, 1, 1, 2, 1, 1, 2, 2, 3, 3, 2, 2, 2, 2, 1, 2, 2, 2, 1, 3, 3, 2, 2, 2, 1, 2, 1, 3, 2, 2, 2, 3, 1, 1, 2, 1, 1, 3, 3, 2, 2, 1, 2, 2, 2, 1, 1, 3, 3, 1, 1, 1, 2, 1, 1, 2, 1, 2, 1, 1, 3, 3, 2, 2, 2, 2, 1, 3, 2, 3, 3, 2, 1, 1, 3, 1, 1, 3, 1, 2, 3, 2, 2, 1, 1, 3, 1, 2, 2, 1, 2, 2, 1, 1, 3, 3, 3, 2, 1, 1, 1, 1, 1, 1, 1, 1, 2, 1, 1, 2, 2, 2, 1, 2, 3, 2, 1, 2, 1, 1, 2, 2, 3, 1, 2, 2, 1, 2, 2, 1, 1, 1, 2, 1, 3, 2, 2, 2, 2, 2, 1, 2, 2, 1, 1, 2, 1, 3, 1, 1, 1, 2, 3, 2, 2, 2, 3, 1, 2, 2, 2, 2, 3, 2, 2, 2, 2, 2, 2, 2, 2, 2, 2, 3, 1, 1, 3, 1, 1, 2, 1, 2, 2, 2, 2, 3, 1, 1, 1, 1, 1, 2, 2, 2, 2, 1, 2, 2, 2, 2, 1, 2, 2, 2, 2, 1, 1, 1, 2, 2, 2, 2, 2, 2, 2, 1, 3, 3, 3, 2, 3, 2, 2, 1, 3, 1, 3, 2, 1, 3, 2, 1, 1, 2, 2, 2, 2, 2, 1, 1, 1, 2, 1, 3, 2, 2, 3, 1, 2, 2, 1, 1, 3, 1, 1, 2, 2, 2, 2, 2, 1, 1, 1, 2, 2, 1, 1, 2, 2, 2, 2, 1, 1, 1, 3, 2, 1, 2, 1, 1, 2, 3, 2, 1, 1, 2, 1, 1, 1, 3, 2, 1, 1, 1, 3, 1, 1, 2, 1, 2, 3, 1, 1, 1, 2, 1, 1, 1, 3, 2, 1, 3, 1, 1, 3, 2, 2, 2, 1, 3, 2, 1, 1, 2, 3, 2, 2, 2, 1, 2, 2, 2, 1, 2, 1, 2, 3, 1, 2, 1, 1, 2, 1, 2, 2, 2, 1, 2, 3, 1, 1, 2, 2, 1, 2, 3, 1, 2, 1, 2, 1, 2, 1, 1, 2, 3, 2, 1, 2, 1, 3, 2, 2, 3, 1, 3, 2, 1, 2, 1, 1, 2, 2, 1, 2, 1, 1, 3, 1, 2, 2, 2, 1, 2, 1, 2, 2, 1, 3, 2, 3, 3, 1, 2, 2, 2, 1, 2, 1, 2, 1, 2, 2, 3, 1, 1, 1, 2, 3, 1, 2, 2, 1, 3, 2, 2, 1, 1, 2, 1, 1, 2, 1, 2, 2, 1, 2, 2, 2, 3, 2, 2, 1, 2, 3, 1, 1, 1, 2, 3, 2, 1, 2, 2]}\n",
      "Accuracy of the network on the test images: 65 %\n"
     ]
    }
   ],
   "source": [
    "correct = 0\n",
    "total = 0\n",
    "with torch.no_grad():\n",
    "    for data in trainloader:\n",
    "        images = data['image']\n",
    "        labels = data['label']\n",
    "        outputs = model(images)\n",
    "        _, predicted = torch.max(outputs.data, 1)\n",
    "        total += labels.size(0)\n",
    "        correct += (predicted == labels).sum().item()\n",
    "\n",
    "print('Accuracy of the network on the train images: %d %%' % (\n",
    "    100 * correct / total))\n",
    "correct = 0\n",
    "total = 0\n",
    "predictions = {'image':[],'prediction':[]}\n",
    "with torch.no_grad():\n",
    "    for data in testloader:\n",
    "        images = data['image']\n",
    "        labels = data['label']\n",
    "        outputs = net(images)\n",
    "        _, predicted = torch.max(outputs.data, 1)\n",
    "#         print(np.array(predicted))\n",
    "        predictions['prediction'] = list(list(predictions['prediction']) + list(np.array(predicted)))\n",
    "#         predictions['image'] = list(list(predictions['image'])+list(np.array(images)))\n",
    "        total += predicted.size(0)\n",
    "        correct += (predicted == labels).sum().item()\n",
    "print(predictions)\n",
    "print('Accuracy of the network on the test images: %d %%' % (\n",
    "    100 * correct / total))"
   ]
  },
  {
   "cell_type": "code",
   "execution_count": null,
   "metadata": {},
   "outputs": [],
   "source": []
  }
 ],
 "metadata": {
  "kernelspec": {
   "display_name": "Python 3",
   "language": "python",
   "name": "python3"
  },
  "language_info": {
   "codemirror_mode": {
    "name": "ipython",
    "version": 3
   },
   "file_extension": ".py",
   "mimetype": "text/x-python",
   "name": "python",
   "nbconvert_exporter": "python",
   "pygments_lexer": "ipython3",
   "version": "3.7.5"
  }
 },
 "nbformat": 4,
 "nbformat_minor": 2
}
